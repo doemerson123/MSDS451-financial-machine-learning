{
 "cells": [
  {
   "cell_type": "code",
   "execution_count": 196,
   "id": "feca83b4-f6d5-48d6-bcd3-ef59e56189f9",
   "metadata": {},
   "outputs": [],
   "source": [
    "import numpy as np\n",
    "import pandas as pd\n",
    "from sklearn.cluster import KMeans, AgglomerativeClustering\n",
    "from sklearn.metrics import silhouette_samples\n",
    "from sklearn.metrics import log_loss\n",
    "from sklearn.model_selection._split import KFold\n",
    "from sklearn.ensemble import RandomForestClassifier\n",
    "#- - - - - - - -- - - - - - - - - - - - -- - - - - - - - - - - - - -- - - - - - - - - - - - -- - -\n",
    "import warnings\n",
    "warnings.filterwarnings(\"ignore\")"
   ]
  },
  {
   "cell_type": "code",
   "execution_count": 175,
   "id": "c9bee141",
   "metadata": {},
   "outputs": [],
   "source": [
    "# Import data from assignment 4 and set y values\n",
    "full_df = pd.read_csv('full_dataset.csv')\n",
    "y=full_df['excess returns']\n",
    "y[y<0]=-1\n",
    "y[y>=0]=1\n",
    "full_df = full_df[full_df['yyyymm']>194412].copy()\n",
    "full_df = full_df.iloc[:,1:].copy()\n",
    "full_df = full_df.drop(columns=['yyyymm', 'Index','CRSP_SPvw','CRSP_SPvwx', \n",
    "                                'D12','E12','AAA', 'corpr','BAA', 'Rfree', 'csp', 'excess returns'])\n",
    "full_df.reset_index(drop=True, inplace=True)\n",
    "corr_df = full_df.iloc[:,:-1].corr()"
   ]
  },
  {
   "cell_type": "code",
   "execution_count": null,
   "id": "6f847492",
   "metadata": {},
   "outputs": [],
   "source": []
  },
  {
   "cell_type": "code",
   "execution_count": 409,
   "id": "d1e43429",
   "metadata": {},
   "outputs": [],
   "source": [
    "def clusterKMeansBase(corr0, seed, maxNumClusters=10,n_init=10):\n",
    "    \n",
    "    x,silh=((1-corr0.fillna(0))/2.)**.5,pd.Series()# observations matrix\n",
    "    for init in range(n_init):\n",
    "        for i in range(2,maxNumClusters+1):\n",
    "            kmeans_=KMeans(n_clusters=i,n_jobs=1,n_init=1, random_state=seed)\n",
    "            kmeans_=kmeans_.fit(x)\n",
    "            silh_=silhouette_samples(x,kmeans_.labels_)\n",
    "            stat=(silh_.mean()/silh_.std(),silh.mean()/silh.std())\n",
    "            if np.isnan(stat[1]) or stat[0]>stat[1]:\n",
    "                silh,kmeans=silh_,kmeans_\n",
    "    newIdx=np.argsort(kmeans.labels_)\n",
    "    corr1=corr0.iloc[newIdx] # reorder rows\n",
    "    corr1=corr1.iloc[:,newIdx] # reorder columns\n",
    "    clstrs={i:corr0.columns[np.where(kmeans.labels_==i)[0]].tolist() \\\n",
    "            for i in np.unique(kmeans.labels_) } # cluster members\n",
    "    silh=pd.Series(silh,index=x.index)\n",
    "    return corr1,clstrs,silh"
   ]
  },
  {
   "cell_type": "code",
   "execution_count": 410,
   "id": "249471aa",
   "metadata": {},
   "outputs": [],
   "source": [
    "def featImpMDA_Clustered(clf,X,y,clstrs,n_splits=10):\n",
    "\n",
    "    cvGen=KFold(n_splits=n_splits)\n",
    "    scr0,scr1=pd.Series(),pd.DataFrame(columns=clstrs.keys())\n",
    "    for i,(train,test) in enumerate(cvGen.split(X=X)):\n",
    "        X0,y0=X.iloc[train,:],y.iloc[train]\n",
    "        X1,y1=X.iloc[test,:],y.iloc[test]\n",
    "        fit=clf.fit(X=X0,y=y0)\n",
    "        prob=fit.predict_proba(X1)\n",
    "        scr0.loc[i]=-log_loss(y1,prob,labels=clf.classes_)\n",
    "        for j in scr1.columns:\n",
    "            X1_=X1.copy(deep=True)\n",
    "            for k in clstrs[j]:\n",
    "                np.random.shuffle(X1_[k].values) # shuffle cluster\n",
    "            prob=fit.predict_proba(X1_)\n",
    "            scr1.loc[i,j]=-log_loss(y1,prob,labels=clf.classes_)\n",
    "    \n",
    "    imp=(-1*scr1).add(scr0,axis=0)\n",
    "    \n",
    "    imp=imp/(-1*scr1)\n",
    "    imp=pd.concat(\n",
    "                  {'mean':imp.mean(),'std':imp.std()*imp.shape[0]**-.5},\n",
    "                  axis=1\n",
    "    )\n",
    "    imp.index=['C_'+str(i) for i in imp.index]\n",
    "    return imp"
   ]
  },
  {
   "cell_type": "markdown",
   "id": "40ee6945",
   "metadata": {},
   "source": [
    "# Question 1\n",
    "Set the random seed to 1. Apply the distance metric based on correlations to the features used in Modules 5-7 in predicting the sign of SPX monthly returns, and apply K-means clustering to those features, using an optimal number of clusters as defined in MLAM section 4.4.2. Use Snippet 4.1 in MLAM. How many clusters did you find? What are the top 2 clusters? (2 pt)\n",
    "\n",
    "## Answer\n",
    "Three clusters, top importance cluster is cluster 1 followed by cluster 0. I tried to create a normalized importance score like Dr Chan used in his paper with Man, but wasn't sure how they accomplished it with frequent negative values. A trick that I've used is adding a constant (usually 1) but that didn't work due to the small magnitude of these numbers, so I added the max value to each value in the means vector to allow a sum to unity. "
   ]
  },
  {
   "cell_type": "code",
   "execution_count": 415,
   "id": "ba6272ca",
   "metadata": {},
   "outputs": [
    {
     "name": "stdout",
     "output_type": "stream",
     "text": [
      "Clusters:\n"
     ]
    },
    {
     "data": {
      "text/plain": [
       "{0: ['ltr', 'svar', 'dfy', 'dfr'],\n",
       " 1: ['b/m', 'd/p', 'd/y', 'e10/p'],\n",
       " 2: ['tbl', 'lty', 'ntis', 'infl', 'e/p']}"
      ]
     },
     "metadata": {},
     "output_type": "display_data"
    },
    {
     "name": "stdout",
     "output_type": "stream",
     "text": [
      "Silhouette\n",
      "b/m      0.386785\n",
      "tbl      0.315759\n",
      "lty      0.166338\n",
      "ntis     0.114055\n",
      "infl    -0.066062\n",
      "ltr      0.313463\n",
      "svar     0.315946\n",
      "dfy      0.276391\n",
      "dfr      0.359036\n",
      "d/p      0.634007\n",
      "d/y      0.543941\n",
      "e/p      0.033510\n",
      "e10/p    0.616197\n",
      "dtype: float64\n"
     ]
    }
   ],
   "source": [
    "corr1,clstrs,silh = clusterKMeansBase(corr_df, seed=1)\n",
    "print(f'Clusters:')\n",
    "display(clstrs)\n",
    "print(f'Silhouette\\n{silh}')"
   ]
  },
  {
   "cell_type": "code",
   "execution_count": 420,
   "id": "0c6d833f",
   "metadata": {},
   "outputs": [],
   "source": [
    "clf = RandomForestClassifier(n_estimators=100, max_depth=4 ,random_state=1)\n",
    "imp = featImpMDA_Clustered(clf,X_test,y_test,clstrs,n_splits=10)"
   ]
  },
  {
   "cell_type": "code",
   "execution_count": 421,
   "id": "d7e938f9",
   "metadata": {},
   "outputs": [
    {
     "data": {
      "text/html": [
       "<div>\n",
       "<style scoped>\n",
       "    .dataframe tbody tr th:only-of-type {\n",
       "        vertical-align: middle;\n",
       "    }\n",
       "\n",
       "    .dataframe tbody tr th {\n",
       "        vertical-align: top;\n",
       "    }\n",
       "\n",
       "    .dataframe thead th {\n",
       "        text-align: right;\n",
       "    }\n",
       "</style>\n",
       "<table border=\"1\" class=\"dataframe\">\n",
       "  <thead>\n",
       "    <tr style=\"text-align: right;\">\n",
       "      <th></th>\n",
       "      <th>mean</th>\n",
       "      <th>std</th>\n",
       "      <th>Importance Scores</th>\n",
       "    </tr>\n",
       "  </thead>\n",
       "  <tbody>\n",
       "    <tr>\n",
       "      <th>C_0</th>\n",
       "      <td>0.000348</td>\n",
       "      <td>0.003602</td>\n",
       "      <td>0.252973</td>\n",
       "    </tr>\n",
       "    <tr>\n",
       "      <th>C_1</th>\n",
       "      <td>0.016275</td>\n",
       "      <td>0.012482</td>\n",
       "      <td>0.495363</td>\n",
       "    </tr>\n",
       "    <tr>\n",
       "      <th>C_2</th>\n",
       "      <td>0.000262</td>\n",
       "      <td>0.007512</td>\n",
       "      <td>0.251664</td>\n",
       "    </tr>\n",
       "  </tbody>\n",
       "</table>\n",
       "</div>"
      ],
      "text/plain": [
       "         mean       std  Importance Scores\n",
       "C_0  0.000348  0.003602           0.252973\n",
       "C_1  0.016275  0.012482           0.495363\n",
       "C_2  0.000262  0.007512           0.251664"
      ]
     },
     "execution_count": 421,
     "metadata": {},
     "output_type": "execute_result"
    }
   ],
   "source": [
    "# Adding max value to prevent negatives from affecting score\n",
    "# Tried adding 1 but causes near equal importance scores bc of magnitude\n",
    "# Wasn't able to find an explicit example for Importance Scores\n",
    "mean = imp['mean'] +imp['mean'].max() \n",
    "imp['Importance Scores']=mean/mean.sum()\n",
    "imp"
   ]
  },
  {
   "cell_type": "markdown",
   "id": "ce259e62-932a-4b88-9f79-c67fa06498db",
   "metadata": {},
   "source": [
    "# Question 2\n",
    "\n",
    "Set the random seed to 2. Repeat Part 1. Did the number of clusters change from what you found in Part 1? Did the top 2 clusters change? (I.e. Do they have identical constituents?) (2 pt)\n",
    "\n",
    "## Answer\n",
    "Number of clusters did not change nor did the members in each cluster, but the top two cluster's feature importance scores did change. \n",
    "\n",
    "Clusters are the same with seed two. The top cluster is cluster 1 again however cluster 2 has the second highest importance score. "
   ]
  },
  {
   "cell_type": "code",
   "execution_count": 422,
   "id": "63250cb8-b5fd-4887-937d-97cbe37f97cb",
   "metadata": {},
   "outputs": [
    {
     "name": "stdout",
     "output_type": "stream",
     "text": [
      "Clusters:\n"
     ]
    },
    {
     "data": {
      "text/plain": [
       "{0: ['ltr', 'svar', 'dfy', 'dfr'],\n",
       " 1: ['b/m', 'infl', 'd/p', 'd/y', 'e10/p'],\n",
       " 2: ['tbl', 'lty', 'ntis', 'e/p']}"
      ]
     },
     "metadata": {},
     "output_type": "display_data"
    },
    {
     "name": "stdout",
     "output_type": "stream",
     "text": [
      "Silhouette\n",
      "b/m      0.350050\n",
      "tbl      0.367971\n",
      "lty      0.219168\n",
      "ntis     0.066823\n",
      "infl     0.066062\n",
      "ltr      0.312200\n",
      "svar     0.327805\n",
      "dfy      0.278676\n",
      "dfr      0.334803\n",
      "d/p      0.542574\n",
      "d/y      0.471427\n",
      "e/p      0.009710\n",
      "e10/p    0.530646\n",
      "dtype: float64\n"
     ]
    }
   ],
   "source": [
    "corr1,clstrs,silh = clusterKMeansBase(corr_df, seed=2)\n",
    "print(f'Clusters:')\n",
    "display(clstrs)\n",
    "print(f'Silhouette\\n{silh}')"
   ]
  },
  {
   "cell_type": "code",
   "execution_count": 423,
   "id": "53de0525",
   "metadata": {},
   "outputs": [],
   "source": [
    "clf = RandomForestClassifier(n_estimators=100, max_depth=4 ,random_state=2)\n",
    "imp = featImpMDA_Clustered(clf,X_test,y_test,clstrs,n_splits=10)"
   ]
  },
  {
   "cell_type": "code",
   "execution_count": 424,
   "id": "bf3a8516",
   "metadata": {},
   "outputs": [
    {
     "data": {
      "text/html": [
       "<div>\n",
       "<style scoped>\n",
       "    .dataframe tbody tr th:only-of-type {\n",
       "        vertical-align: middle;\n",
       "    }\n",
       "\n",
       "    .dataframe tbody tr th {\n",
       "        vertical-align: top;\n",
       "    }\n",
       "\n",
       "    .dataframe thead th {\n",
       "        text-align: right;\n",
       "    }\n",
       "</style>\n",
       "<table border=\"1\" class=\"dataframe\">\n",
       "  <thead>\n",
       "    <tr style=\"text-align: right;\">\n",
       "      <th></th>\n",
       "      <th>mean</th>\n",
       "      <th>std</th>\n",
       "      <th>Importance Scores</th>\n",
       "    </tr>\n",
       "  </thead>\n",
       "  <tbody>\n",
       "    <tr>\n",
       "      <th>C_0</th>\n",
       "      <td>0.003968</td>\n",
       "      <td>0.008052</td>\n",
       "      <td>0.252573</td>\n",
       "    </tr>\n",
       "    <tr>\n",
       "      <th>C_1</th>\n",
       "      <td>0.011085</td>\n",
       "      <td>0.012012</td>\n",
       "      <td>0.341914</td>\n",
       "    </tr>\n",
       "    <tr>\n",
       "      <th>C_2</th>\n",
       "      <td>0.016152</td>\n",
       "      <td>0.010691</td>\n",
       "      <td>0.405512</td>\n",
       "    </tr>\n",
       "  </tbody>\n",
       "</table>\n",
       "</div>"
      ],
      "text/plain": [
       "         mean       std  Importance Scores\n",
       "C_0  0.003968  0.008052           0.252573\n",
       "C_1  0.011085  0.012012           0.341914\n",
       "C_2  0.016152  0.010691           0.405512"
      ]
     },
     "execution_count": 424,
     "metadata": {},
     "output_type": "execute_result"
    }
   ],
   "source": [
    "# Adding max value to prevent negatives from affecting score\n",
    "# Tried adding 1 but causes near equal importance scores bc of magnitude\n",
    "mean = imp['mean'] +imp['mean'].max() \n",
    "imp['Importance Scores']=mean/mean.sum()\n",
    "imp"
   ]
  },
  {
   "cell_type": "markdown",
   "id": "56cd39c9-ba16-4ae9-a75f-c4cefb1995b3",
   "metadata": {},
   "source": [
    "# Question 3\n",
    "\n",
    "Apply hierarchical clustering to the same features, as per Chan and Man 2021b (see article on Overview Page). Again, set the random seed to 1. How many clusters did you find?  What are the top 2 clusters? (3 pt)\n",
    "\n",
    "## Answer:\n",
    "Two clusters that are very close to the Man and Chan 2021 paper. Top cluster is cluster zero and cluster 1 follows. "
   ]
  },
  {
   "cell_type": "code",
   "execution_count": 442,
   "id": "aa873bec",
   "metadata": {},
   "outputs": [],
   "source": [
    "def clusterAgglomBase(corr0, seed, maxNumClusters=10,n_init=10):\n",
    "    np.random.seed(seed)\n",
    "    x,silh=((1-corr0.fillna(0))/2.)**.5,pd.Series()# observations matrix\n",
    "    for init in range(n_init):\n",
    "        for i in range(2,maxNumClusters+1):\n",
    "            kmeans_=AgglomerativeClustering(n_clusters=i)\n",
    "            kmeans_=kmeans_.fit(x)\n",
    "            silh_=silhouette_samples(x,kmeans_.labels_)\n",
    "            stat=(silh_.mean()/silh_.std(),silh.mean()/silh.std())\n",
    "            if np.isnan(stat[1]) or stat[0]>stat[1]:\n",
    "                silh,kmeans=silh_,kmeans_\n",
    "    newIdx=np.argsort(kmeans.labels_)\n",
    "    corr1=corr0.iloc[newIdx] # reorder rows\n",
    "    corr1=corr1.iloc[:,newIdx] # reorder columns\n",
    "    clstrs={i:corr0.columns[np.where(kmeans.labels_==i)[0]].tolist() \\\n",
    "            for i in np.unique(kmeans.labels_) } # cluster members\n",
    "    silh=pd.Series(silh,index=x.index)\n",
    "    return corr1,clstrs,silh"
   ]
  },
  {
   "cell_type": "code",
   "execution_count": 443,
   "id": "f938caf4-cca5-444d-9ea4-31de2ef44dbc",
   "metadata": {},
   "outputs": [
    {
     "name": "stdout",
     "output_type": "stream",
     "text": [
      "Clusters:\n"
     ]
    },
    {
     "data": {
      "text/plain": [
       "{0: ['b/m', 'tbl', 'lty', 'ntis', 'infl', 'd/p', 'd/y', 'e/p', 'e10/p'],\n",
       " 1: ['ltr', 'svar', 'dfy', 'dfr']}"
      ]
     },
     "metadata": {},
     "output_type": "display_data"
    },
    {
     "name": "stdout",
     "output_type": "stream",
     "text": [
      "Silhouette\n",
      "b/m      0.367031\n",
      "tbl      0.142604\n",
      "lty     -0.014856\n",
      "ntis     0.096808\n",
      "infl     0.143748\n",
      "ltr      0.372457\n",
      "svar     0.358123\n",
      "dfy      0.317302\n",
      "dfr      0.359797\n",
      "d/p      0.325710\n",
      "d/y      0.373252\n",
      "e/p      0.334798\n",
      "e10/p    0.299608\n",
      "dtype: float64\n"
     ]
    }
   ],
   "source": [
    "corr1,clstrs,silh = clusterAgglomBase(corr_df, seed=1, n_init=10)\n",
    "print(f'Clusters:')\n",
    "display(clstrs)\n",
    "print(f'Silhouette\\n{silh}')"
   ]
  },
  {
   "cell_type": "code",
   "execution_count": 444,
   "id": "4dfe7a25",
   "metadata": {},
   "outputs": [],
   "source": [
    "clf = RandomForestClassifier(n_estimators=100, max_depth=4 ,random_state=1)\n",
    "imp = featImpMDA_Clustered(clf,X_test,y_test,clstrs,n_splits=10)"
   ]
  },
  {
   "cell_type": "code",
   "execution_count": 445,
   "id": "ecad0e3b",
   "metadata": {},
   "outputs": [
    {
     "data": {
      "text/html": [
       "<div>\n",
       "<style scoped>\n",
       "    .dataframe tbody tr th:only-of-type {\n",
       "        vertical-align: middle;\n",
       "    }\n",
       "\n",
       "    .dataframe tbody tr th {\n",
       "        vertical-align: top;\n",
       "    }\n",
       "\n",
       "    .dataframe thead th {\n",
       "        text-align: right;\n",
       "    }\n",
       "</style>\n",
       "<table border=\"1\" class=\"dataframe\">\n",
       "  <thead>\n",
       "    <tr style=\"text-align: right;\">\n",
       "      <th></th>\n",
       "      <th>mean</th>\n",
       "      <th>std</th>\n",
       "      <th>Importance Scores</th>\n",
       "    </tr>\n",
       "  </thead>\n",
       "  <tbody>\n",
       "    <tr>\n",
       "      <th>C_0</th>\n",
       "      <td>0.018506</td>\n",
       "      <td>0.018368</td>\n",
       "      <td>0.809911</td>\n",
       "    </tr>\n",
       "    <tr>\n",
       "      <th>C_1</th>\n",
       "      <td>-0.009819</td>\n",
       "      <td>0.005459</td>\n",
       "      <td>0.190089</td>\n",
       "    </tr>\n",
       "  </tbody>\n",
       "</table>\n",
       "</div>"
      ],
      "text/plain": [
       "         mean       std  Importance Scores\n",
       "C_0  0.018506  0.018368           0.809911\n",
       "C_1 -0.009819  0.005459           0.190089"
      ]
     },
     "execution_count": 445,
     "metadata": {},
     "output_type": "execute_result"
    }
   ],
   "source": [
    "# Adding max value to prevent negatives from affecting score\n",
    "# Tried adding 1 but causes near equal importance scores bc of magnitude\n",
    "mean = imp['mean'] +imp['mean'].max() \n",
    "imp['Importance Scores']=mean/mean.sum()\n",
    "imp"
   ]
  },
  {
   "cell_type": "markdown",
   "id": "121f7b20-5379-4f3f-b363-84d805be0642",
   "metadata": {},
   "source": [
    "# Question 4\n",
    "Set the random seed to 2. Repeat Part 3. How many clusters did you find?  What are the top 2 clusters? (3 pt)\n",
    "\n",
    "## Answer:\n",
    "Two clusters. Top cluster is cluster zero and cluster 1 follows. Importance scores are very close to answers from question 3. "
   ]
  },
  {
   "cell_type": "code",
   "execution_count": 439,
   "id": "a81226e7-b60f-427a-8029-8510fe8f7e3f",
   "metadata": {},
   "outputs": [
    {
     "name": "stdout",
     "output_type": "stream",
     "text": [
      "Clusters:\n"
     ]
    },
    {
     "data": {
      "text/plain": [
       "{0: ['b/m', 'tbl', 'lty', 'ntis', 'infl', 'd/p', 'd/y', 'e/p', 'e10/p'],\n",
       " 1: ['ltr', 'svar', 'dfy', 'dfr']}"
      ]
     },
     "metadata": {},
     "output_type": "display_data"
    },
    {
     "name": "stdout",
     "output_type": "stream",
     "text": [
      "Silhouette\n",
      "b/m      0.367031\n",
      "tbl      0.142604\n",
      "lty     -0.014856\n",
      "ntis     0.096808\n",
      "infl     0.143748\n",
      "ltr      0.372457\n",
      "svar     0.358123\n",
      "dfy      0.317302\n",
      "dfr      0.359797\n",
      "d/p      0.325710\n",
      "d/y      0.373252\n",
      "e/p      0.334798\n",
      "e10/p    0.299608\n",
      "dtype: float64\n"
     ]
    }
   ],
   "source": [
    "corr1,clstrs,silh = clusterAgglomBase(corr_df, seed=2, n_init=10)\n",
    "print(f'Clusters:')\n",
    "display(clstrs)\n",
    "print(f'Silhouette\\n{silh}')"
   ]
  },
  {
   "cell_type": "code",
   "execution_count": 440,
   "id": "3aa8ed03",
   "metadata": {},
   "outputs": [],
   "source": [
    "clf = RandomForestClassifier(n_estimators=100, max_depth=4 ,random_state=2)\n",
    "imp = featImpMDA_Clustered(clf,X_test,y_test,clstrs,n_splits=10)"
   ]
  },
  {
   "cell_type": "code",
   "execution_count": 441,
   "id": "5b6c76ea-14c2-4441-b864-33f463ae4b16",
   "metadata": {},
   "outputs": [
    {
     "data": {
      "text/html": [
       "<div>\n",
       "<style scoped>\n",
       "    .dataframe tbody tr th:only-of-type {\n",
       "        vertical-align: middle;\n",
       "    }\n",
       "\n",
       "    .dataframe tbody tr th {\n",
       "        vertical-align: top;\n",
       "    }\n",
       "\n",
       "    .dataframe thead th {\n",
       "        text-align: right;\n",
       "    }\n",
       "</style>\n",
       "<table border=\"1\" class=\"dataframe\">\n",
       "  <thead>\n",
       "    <tr style=\"text-align: right;\">\n",
       "      <th></th>\n",
       "      <th>mean</th>\n",
       "      <th>std</th>\n",
       "      <th>Importance Scores</th>\n",
       "    </tr>\n",
       "  </thead>\n",
       "  <tbody>\n",
       "    <tr>\n",
       "      <th>C_0</th>\n",
       "      <td>0.010356</td>\n",
       "      <td>0.015008</td>\n",
       "      <td>0.822245</td>\n",
       "    </tr>\n",
       "    <tr>\n",
       "      <th>C_1</th>\n",
       "      <td>-0.005878</td>\n",
       "      <td>0.005660</td>\n",
       "      <td>0.177755</td>\n",
       "    </tr>\n",
       "  </tbody>\n",
       "</table>\n",
       "</div>"
      ],
      "text/plain": [
       "         mean       std  Importance Scores\n",
       "C_0  0.010356  0.015008           0.822245\n",
       "C_1 -0.005878  0.005660           0.177755"
      ]
     },
     "execution_count": 441,
     "metadata": {},
     "output_type": "execute_result"
    }
   ],
   "source": [
    "# Adding max value to prevent negatives from affecting score\n",
    "# Tried adding 1 but causes near equal importance scores bc of magnitude\n",
    "mean = imp['mean'] +imp['mean'].max() \n",
    "imp['Importance Scores']=mean/mean.sum()\n",
    "imp"
   ]
  }
 ],
 "metadata": {
  "kernelspec": {
   "display_name": "Python 3",
   "language": "python",
   "name": "python3"
  },
  "language_info": {
   "codemirror_mode": {
    "name": "ipython",
    "version": 3
   },
   "file_extension": ".py",
   "mimetype": "text/x-python",
   "name": "python",
   "nbconvert_exporter": "python",
   "pygments_lexer": "ipython3",
   "version": "3.7.11"
  }
 },
 "nbformat": 4,
 "nbformat_minor": 5
}
