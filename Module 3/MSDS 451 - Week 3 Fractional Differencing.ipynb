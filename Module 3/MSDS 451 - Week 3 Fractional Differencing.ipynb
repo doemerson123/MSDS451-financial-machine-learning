{
 "cells": [
  {
   "cell_type": "markdown",
   "metadata": {},
   "source": [
    "##### We will now fract Diff the non stationary features . "
   ]
  },
  {
   "cell_type": "markdown",
   "metadata": {},
   "source": [
    "# Imports and Functions"
   ]
  },
  {
   "cell_type": "code",
   "execution_count": null,
   "metadata": {},
   "outputs": [],
   "source": [
    "import os \n",
    "import pandas as pd\n",
    "import numpy as np\n",
    "import matplotlib.pyplot as plt\n",
    "from pandas import read_csv\n",
    "from statsmodels.tsa.stattools import adfuller\n",
    "np.random.seed(0)"
   ]
  },
  {
   "cell_type": "code",
   "execution_count": 67,
   "metadata": {},
   "outputs": [],
   "source": [
    "import os \n",
    "import pandas as pd\n",
    "import numpy as np\n",
    "import matplotlib.pyplot as plt\n",
    "from pandas import read_csv\n",
    "from statsmodels.tsa.stattools import adfuller\n",
    "np.random.seed(0)\n",
    "# Fractional differntiation code snippets from Dr. Ernie P Chan and Dr. Roger Hunter\n",
    "def getWeights_FFD(d,thres):\n",
    "    w,k=[1.],1\n",
    "    while True:\n",
    "        w_=-w[-1]/k*(d-k+1)\n",
    "        if abs(w_)<thres:break\n",
    "        w.append(w_);k+=1\n",
    "    return np.array(w[::-1]).reshape(-1,1)\n",
    "\n",
    "def fracDiff_FFD(series,d,thres=1e-5):\n",
    "    # Constant width window (new solution)\n",
    "    w=getWeights_FFD(d,thres)\n",
    "    df={}\n",
    "    for name in series.columns:\n",
    "        df_=pd.Series(series[name].values,index=series.index).fillna(method='ffill').dropna()\n",
    "        x=pd.Series(0,index=df_.index)\n",
    "        for k in range(w.shape[0]):\n",
    "            x=x+w[k,0]*df_.shift(-k)\n",
    "    #df[name]=x.dropna().copy(deep=True)\n",
    "    df[name]=x.shift(k).copy(deep=True)\n",
    "    df=pd.concat(df,axis=1)\n",
    "    return df   \n",
    "\n",
    "def findMinD(series):\n",
    "    for d in np.linspace(0,1,11):\n",
    "        df_=fracDiff_FFD(series,d,thres=0.01).dropna()\n",
    "        res=adfuller(df_.iloc[:,0].values,maxlag=1,regression='c',autolag=None)\n",
    "        \n",
    "        if (res[0]<=res[4]['5%']):\n",
    "            return d\n",
    "    return 1.0"
   ]
  },
  {
   "cell_type": "code",
   "execution_count": 68,
   "metadata": {},
   "outputs": [],
   "source": [
    "uso = pd.read_csv('USO.csv')\n",
    "uso.columns = ['Date', 'Open','High', 'Low', 'Close', 'UnAdjustedClose', 'Volume']"
   ]
  },
  {
   "cell_type": "code",
   "execution_count": 5,
   "metadata": {},
   "outputs": [],
   "source": [
    "uso['log_close'] = np.log(uso['Close'])"
   ]
  },
  {
   "cell_type": "markdown",
   "metadata": {},
   "source": [
    "# Question 1\n",
    "Download the USO.csv  Download USO.csvfile which contains the daily bars of the US Oil (Exchange Traded) Fund. Use the provided functions getWeights_FFD, fractDiff.FFD, and findMinD, to find the minimum fractional dimension d that will turn this price series into a stationary series. (3 pt)"
   ]
  },
  {
   "cell_type": "code",
   "execution_count": 6,
   "metadata": {},
   "outputs": [
    {
     "data": {
      "text/plain": [
       "0.5"
      ]
     },
     "execution_count": 6,
     "metadata": {},
     "output_type": "execute_result"
    }
   ],
   "source": [
    "log_close = pd.DataFrame(uso['log_close'])\n",
    "findMinD(log_close )"
   ]
  },
  {
   "cell_type": "code",
   "execution_count": 7,
   "metadata": {},
   "outputs": [
    {
     "data": {
      "text/plain": [
       "0.4"
      ]
     },
     "execution_count": 7,
     "metadata": {},
     "output_type": "execute_result"
    }
   ],
   "source": [
    "close = pd.DataFrame(uso['Close'])\n",
    "findMinD(close )"
   ]
  },
  {
   "cell_type": "markdown",
   "metadata": {},
   "source": [
    "# Question 2\n",
    "\n",
    "Using the d you found in part 1 to fractionally differentiate the USO daily price series. Use adfuller from statsmodels.tsa.stattools to determine the ADF statistics of the resulting time series. Can you conclude from these statistics that the fractionally differentiated time series is stationary? (3 pt)\n",
    "\n",
    "Answer: It's a strong indication that there the fractional diff at 0.4 created a stationary dataset with a < .01. Other tests would be needed to be completely sure but it's a strong liklihood\n",
    "\n"
   ]
  },
  {
   "cell_type": "code",
   "execution_count": 8,
   "metadata": {},
   "outputs": [
    {
     "data": {
      "text/plain": [
       "(-3.5341381935918106,\n",
       " 0.007152436108903588,\n",
       " 1,\n",
       " 3296,\n",
       " {'1%': -3.4323355582984356,\n",
       "  '5%': -2.8624173022673167,\n",
       "  '10%': -2.5672370061423377})"
      ]
     },
     "execution_count": 8,
     "metadata": {},
     "output_type": "execute_result"
    }
   ],
   "source": [
    "frac_dif_df = fracDiff_FFD(close, 0.4, 0.01)\n",
    "frac_dif_df.dropna(how='any', inplace=True)\n",
    "adfuller(frac_dif_df['Close'].values,maxlag=1,regression='c',autolag=None)"
   ]
  },
  {
   "cell_type": "code",
   "execution_count": 9,
   "metadata": {},
   "outputs": [
    {
     "data": {
      "text/plain": [
       "(-3.5341381935918106,\n",
       " 0.007152436108903588,\n",
       " 1,\n",
       " 3296,\n",
       " {'1%': -3.4323355582984356,\n",
       "  '5%': -2.8624173022673167,\n",
       "  '10%': -2.5672370061423377})"
      ]
     },
     "execution_count": 9,
     "metadata": {},
     "output_type": "execute_result"
    }
   ],
   "source": [
    "adfuller(frac_dif_df['Close'].values,maxlag=1,regression='c',autolag=None)"
   ]
  },
  {
   "cell_type": "code",
   "execution_count": 10,
   "metadata": {},
   "outputs": [
    {
     "data": {
      "text/plain": [
       "(-3.7566886200194323,\n",
       " 0.003382866098647261,\n",
       " 1,\n",
       " 3297,\n",
       " {'1%': -3.4323349555967604,\n",
       "  '5%': -2.862417036057391,\n",
       "  '10%': -2.5672368644181542})"
      ]
     },
     "execution_count": 10,
     "metadata": {},
     "output_type": "execute_result"
    }
   ],
   "source": [
    "log_frac_dif_df = fracDiff_FFD(log_close, 0.5, 0.01)\n",
    "log_frac_dif_df.dropna(how='any', inplace=True)\n",
    "adfuller(log_frac_dif_df['log_close'].values,maxlag=1,regression='c',autolag=None)"
   ]
  },
  {
   "cell_type": "markdown",
   "metadata": {},
   "source": [
    "# Question 3\n",
    "Complete Exercise 5.1 in AFML using the functions that we provided. (Each part carries 1 pt. for a total of 3 pt)\n",
    "\n",
    "Generate a time series from an IID Gaussian random process. This is a memory-less, stationary series:\n",
    "\n",
    "- Compute the ADF statistic on this series. What is the p-value? \n",
    "  - Answer: p-value == 0\n",
    "- Compute the cumulative sum of the observations. This is a non-stationary series without memory.\n",
    "- What is the order of integration of this cumulative series?\n",
    "  - Answer: d= 0.4\n",
    "- Compute the ADF statistic on this series. What is the p-value?\n",
    "  - Answer: p-value = 0.0003581977244318168\n",
    "- Differentiate the series twice. What is the p-value of this over-differentiated series?\n",
    "  - Answer: p-value  2.207889029216563e-30,"
   ]
  },
  {
   "cell_type": "markdown",
   "metadata": {},
   "source": [
    "## Create random data"
   ]
  },
  {
   "cell_type": "code",
   "execution_count": 136,
   "metadata": {},
   "outputs": [],
   "source": [
    "np.random.seed(0) \n",
    "rando = np.random.normal(0,1, 5000)"
   ]
  },
  {
   "cell_type": "code",
   "execution_count": 137,
   "metadata": {},
   "outputs": [
    {
     "data": {
      "image/png": "[encoded data removed]",
      "text/plain": [
       "<Figure size 432x288 with 1 Axes>"
      ]
     },
     "metadata": {
      "needs_background": "light"
     },
     "output_type": "display_data"
    }
   ],
   "source": [
    "plt.plot(rando);"
   ]
  },
  {
   "cell_type": "code",
   "execution_count": 138,
   "metadata": {},
   "outputs": [
    {
     "name": "stdout",
     "output_type": "stream",
     "text": [
      "ADF Statistic: -70.056013\n",
      "p-value: 0.000000\n",
      "Critical Values:\n",
      "\t1%: -3.432\n",
      "\t5%: -2.862\n",
      "\t10%: -2.567\n"
     ]
    }
   ],
   "source": [
    "result = adfuller(rando)\n",
    "print('ADF Statistic: %f' % result[0])\n",
    "print('p-value: %f' % result[1])\n",
    "print('Critical Values:')\n",
    "for key, value in result[4].items():\n",
    "\tprint('\\t%s: %.3f' % (key, value))"
   ]
  },
  {
   "cell_type": "markdown",
   "metadata": {},
   "source": [
    "## CUMSUM"
   ]
  },
  {
   "cell_type": "code",
   "execution_count": 139,
   "metadata": {},
   "outputs": [],
   "source": [
    "cumsum_rando = np.cumsum(rando)"
   ]
  },
  {
   "cell_type": "code",
   "execution_count": 140,
   "metadata": {},
   "outputs": [
    {
     "data": {
      "image/png": "[encoded data removed]",
      "text/plain": [
       "<Figure size 432x288 with 1 Axes>"
      ]
     },
     "metadata": {
      "needs_background": "light"
     },
     "output_type": "display_data"
    }
   ],
   "source": [
    "plt.plot(cumsum_rando);"
   ]
  },
  {
   "cell_type": "code",
   "execution_count": 141,
   "metadata": {},
   "outputs": [
    {
     "name": "stdout",
     "output_type": "stream",
     "text": [
      "ADF Statistic: -1.671806\n",
      "p-value: 0.445694\n",
      "Critical Values:\n",
      "\t1%: -3.432\n",
      "\t5%: -2.862\n",
      "\t10%: -2.567\n"
     ]
    }
   ],
   "source": [
    "result = adfuller(cumsum_rando)\n",
    "print('ADF Statistic: %f' % result[0])\n",
    "print('p-value: %f' % result[1])\n",
    "print('Critical Values:')\n",
    "for key, value in result[4].items():\n",
    "\tprint('\\t%s: %.3f' % (key, value))"
   ]
  },
  {
   "cell_type": "code",
   "execution_count": 142,
   "metadata": {},
   "outputs": [
    {
     "data": {
      "text/plain": [
       "0.4"
      ]
     },
     "execution_count": 142,
     "metadata": {},
     "output_type": "execute_result"
    }
   ],
   "source": [
    "# Find order of integration for first CUSUM\n",
    "close = pd.DataFrame(pd.Series(cumsum_rando))\n",
    "findMinD(close )"
   ]
  },
  {
   "cell_type": "markdown",
   "metadata": {},
   "source": [
    "## Double Diff"
   ]
  },
  {
   "cell_type": "code",
   "execution_count": 143,
   "metadata": {},
   "outputs": [
    {
     "data": {
      "text/plain": [
       "(-3.4426587886502613,\n",
       " 0.009587800935045798,\n",
       " 30,\n",
       " 3512,\n",
       " {'1%': -3.432213350242838,\n",
       "  '5%': -2.8623633225589806,\n",
       "  '10%': -2.567208268744065},\n",
       " 9917.737502799224)"
      ]
     },
     "execution_count": 143,
     "metadata": {},
     "output_type": "execute_result"
    },
    {
     "data": {
      "image/png": "[encoded data removed]",
      "text/plain": [
       "<Figure size 432x288 with 1 Axes>"
      ]
     },
     "metadata": {
      "needs_background": "light"
     },
     "output_type": "display_data"
    }
   ],
   "source": [
    "# Double ADF with plot\n",
    "single_diff = fracDiff_FFD(close, 0.4)\n",
    "single_diff.dropna(how='any', inplace=True)\n",
    "plt.plot(single_diff);\n",
    "adfuller(single_diff)"
   ]
  },
  {
   "cell_type": "code",
   "execution_count": 144,
   "metadata": {},
   "outputs": [
    {
     "data": {
      "text/plain": [
       "(-18.382697371655865,\n",
       " 2.207889029216563e-30,\n",
       " 3,\n",
       " 2082,\n",
       " {'1%': -3.4334947554105537,\n",
       "  '5%': -2.862929213668854,\n",
       "  '10%': -2.567509552921939},\n",
       " 5876.557133572742)"
      ]
     },
     "execution_count": 144,
     "metadata": {},
     "output_type": "execute_result"
    },
    {
     "data": {
      "image/png": "[encoded data removed]",
      "text/plain": [
       "<Figure size 432x288 with 1 Axes>"
      ]
     },
     "metadata": {
      "needs_background": "light"
     },
     "output_type": "display_data"
    }
   ],
   "source": [
    "# Double ADF with plot\n",
    "double_diff = fracDiff_FFD(single_diff, 0.4)\n",
    "double_diff.dropna(how='any', inplace=True)\n",
    "plt.plot(double_diff)\n",
    "adfuller(double_diff)"
   ]
  },
  {
   "cell_type": "markdown",
   "metadata": {},
   "source": [
    "# Question 4\n",
    "Seems like the code in AFML will loop through until the end instead of stop. Can imagine it's a solid difference"
   ]
  },
  {
   "cell_type": "code",
   "execution_count": null,
   "metadata": {},
   "outputs": [],
   "source": []
  }
 ],
 "metadata": {
  "kernelspec": {
   "display_name": "Python 3 (ipykernel)",
   "language": "python",
   "name": "python3"
  },
  "language_info": {
   "codemirror_mode": {
    "name": "ipython",
    "version": 3
   },
   "file_extension": ".py",
   "mimetype": "text/x-python",
   "name": "python",
   "nbconvert_exporter": "python",
   "pygments_lexer": "ipython3",
   "version": "3.7.13"
  }
 },
 "nbformat": 4,
 "nbformat_minor": 4
}
